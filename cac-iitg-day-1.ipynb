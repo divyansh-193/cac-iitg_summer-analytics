{
 "cells": [
  {
   "cell_type": "code",
   "execution_count": 1,
   "id": "ac94c4a7",
   "metadata": {
    "_cell_guid": "b1076dfc-b9ad-4769-8c92-a6c4dae69d19",
    "_uuid": "8f2839f25d086af736a60e9eeb907d3b93b6e0e5",
    "execution": {
     "iopub.execute_input": "2024-05-29T14:04:53.679484Z",
     "iopub.status.busy": "2024-05-29T14:04:53.679117Z",
     "iopub.status.idle": "2024-05-29T14:04:53.690191Z",
     "shell.execute_reply": "2024-05-29T14:04:53.689103Z"
    },
    "papermill": {
     "duration": 0.019077,
     "end_time": "2024-05-29T14:04:53.692766",
     "exception": false,
     "start_time": "2024-05-29T14:04:53.673689",
     "status": "completed"
    },
    "tags": []
   },
   "outputs": [
    {
     "name": "stdout",
     "output_type": "stream",
     "text": [
      "Hello world\n"
     ]
    }
   ],
   "source": [
    "print('Hello world')"
   ]
  },
  {
   "cell_type": "code",
   "execution_count": 2,
   "id": "05f5aa83",
   "metadata": {
    "execution": {
     "iopub.execute_input": "2024-05-29T14:04:53.702026Z",
     "iopub.status.busy": "2024-05-29T14:04:53.701392Z",
     "iopub.status.idle": "2024-05-29T14:04:53.706231Z",
     "shell.execute_reply": "2024-05-29T14:04:53.705362Z"
    },
    "papermill": {
     "duration": 0.011826,
     "end_time": "2024-05-29T14:04:53.708549",
     "exception": false,
     "start_time": "2024-05-29T14:04:53.696723",
     "status": "completed"
    },
    "tags": []
   },
   "outputs": [
    {
     "name": "stdout",
     "output_type": "stream",
     "text": [
      "This is the message\n"
     ]
    }
   ],
   "source": [
    "message = 'This is the message'\n",
    "print(message)"
   ]
  },
  {
   "cell_type": "code",
   "execution_count": 3,
   "id": "ea8dc614",
   "metadata": {
    "execution": {
     "iopub.execute_input": "2024-05-29T14:04:53.716932Z",
     "iopub.status.busy": "2024-05-29T14:04:53.716583Z",
     "iopub.status.idle": "2024-05-29T14:04:53.721167Z",
     "shell.execute_reply": "2024-05-29T14:04:53.720145Z"
    },
    "papermill": {
     "duration": 0.011424,
     "end_time": "2024-05-29T14:04:53.723506",
     "exception": false,
     "start_time": "2024-05-29T14:04:53.712082",
     "status": "completed"
    },
    "tags": []
   },
   "outputs": [
    {
     "name": "stdout",
     "output_type": "stream",
     "text": [
      "Mark's recipe\n"
     ]
    }
   ],
   "source": [
    "another_message = 'Mark\\'s recipe'\n",
    "print(another_message)"
   ]
  },
  {
   "cell_type": "markdown",
   "id": "1a6a3856",
   "metadata": {
    "papermill": {
     "duration": 0.00342,
     "end_time": "2024-05-29T14:04:53.730538",
     "exception": false,
     "start_time": "2024-05-29T14:04:53.727118",
     "status": "completed"
    },
    "tags": []
   },
   "source": [
    "Triple annotations used for displaying string as it is with the enter"
   ]
  },
  {
   "cell_type": "code",
   "execution_count": 4,
   "id": "9940f124",
   "metadata": {
    "execution": {
     "iopub.execute_input": "2024-05-29T14:04:53.739380Z",
     "iopub.status.busy": "2024-05-29T14:04:53.738539Z",
     "iopub.status.idle": "2024-05-29T14:04:53.744062Z",
     "shell.execute_reply": "2024-05-29T14:04:53.743165Z"
    },
    "papermill": {
     "duration": 0.012106,
     "end_time": "2024-05-29T14:04:53.746117",
     "exception": false,
     "start_time": "2024-05-29T14:04:53.734011",
     "status": "completed"
    },
    "tags": []
   },
   "outputs": [
    {
     "name": "stdout",
     "output_type": "stream",
     "text": [
      "My name is\n",
      "Neo\n",
      "I am escaping the matrix\n"
     ]
    }
   ],
   "source": [
    "message_resurrected = \"\"\"My name is\n",
    "Neo\n",
    "I am escaping the matrix\"\"\"\n",
    "print(message_resurrected)"
   ]
  },
  {
   "cell_type": "code",
   "execution_count": 5,
   "id": "8d423b6e",
   "metadata": {
    "execution": {
     "iopub.execute_input": "2024-05-29T14:04:53.754732Z",
     "iopub.status.busy": "2024-05-29T14:04:53.754355Z",
     "iopub.status.idle": "2024-05-29T14:04:53.758635Z",
     "shell.execute_reply": "2024-05-29T14:04:53.757702Z"
    },
    "papermill": {
     "duration": 0.010946,
     "end_time": "2024-05-29T14:04:53.760722",
     "exception": false,
     "start_time": "2024-05-29T14:04:53.749776",
     "status": "completed"
    },
    "tags": []
   },
   "outputs": [],
   "source": [
    "alpha = 'alphabetagamma'"
   ]
  },
  {
   "cell_type": "code",
   "execution_count": 6,
   "id": "b56a8ea5",
   "metadata": {
    "execution": {
     "iopub.execute_input": "2024-05-29T14:04:53.770112Z",
     "iopub.status.busy": "2024-05-29T14:04:53.769413Z",
     "iopub.status.idle": "2024-05-29T14:04:53.774351Z",
     "shell.execute_reply": "2024-05-29T14:04:53.773452Z"
    },
    "papermill": {
     "duration": 0.011826,
     "end_time": "2024-05-29T14:04:53.776483",
     "exception": false,
     "start_time": "2024-05-29T14:04:53.764657",
     "status": "completed"
    },
    "tags": []
   },
   "outputs": [
    {
     "name": "stdout",
     "output_type": "stream",
     "text": [
      "14\n"
     ]
    }
   ],
   "source": [
    "print(len(alpha))"
   ]
  },
  {
   "cell_type": "code",
   "execution_count": 7,
   "id": "fe6d40bf",
   "metadata": {
    "execution": {
     "iopub.execute_input": "2024-05-29T14:04:53.785555Z",
     "iopub.status.busy": "2024-05-29T14:04:53.784979Z",
     "iopub.status.idle": "2024-05-29T14:04:53.789755Z",
     "shell.execute_reply": "2024-05-29T14:04:53.788779Z"
    },
    "papermill": {
     "duration": 0.011702,
     "end_time": "2024-05-29T14:04:53.791993",
     "exception": false,
     "start_time": "2024-05-29T14:04:53.780291",
     "status": "completed"
    },
    "tags": []
   },
   "outputs": [
    {
     "name": "stdout",
     "output_type": "stream",
     "text": [
      "5\n"
     ]
    }
   ],
   "source": [
    "print(alpha.count('a'))"
   ]
  },
  {
   "cell_type": "code",
   "execution_count": 8,
   "id": "def694a8",
   "metadata": {
    "execution": {
     "iopub.execute_input": "2024-05-29T14:04:53.801461Z",
     "iopub.status.busy": "2024-05-29T14:04:53.800884Z",
     "iopub.status.idle": "2024-05-29T14:04:53.805528Z",
     "shell.execute_reply": "2024-05-29T14:04:53.804633Z"
    },
    "papermill": {
     "duration": 0.012216,
     "end_time": "2024-05-29T14:04:53.808107",
     "exception": false,
     "start_time": "2024-05-29T14:04:53.795891",
     "status": "completed"
    },
    "tags": []
   },
   "outputs": [
    {
     "name": "stdout",
     "output_type": "stream",
     "text": [
      "ALPHABETAGAMMA\n"
     ]
    }
   ],
   "source": [
    "print(alpha.upper())"
   ]
  },
  {
   "cell_type": "code",
   "execution_count": 9,
   "id": "8a4f58e6",
   "metadata": {
    "execution": {
     "iopub.execute_input": "2024-05-29T14:04:53.817514Z",
     "iopub.status.busy": "2024-05-29T14:04:53.816937Z",
     "iopub.status.idle": "2024-05-29T14:04:53.821535Z",
     "shell.execute_reply": "2024-05-29T14:04:53.820635Z"
    },
    "papermill": {
     "duration": 0.012027,
     "end_time": "2024-05-29T14:04:53.824050",
     "exception": false,
     "start_time": "2024-05-29T14:04:53.812023",
     "status": "completed"
    },
    "tags": []
   },
   "outputs": [
    {
     "name": "stdout",
     "output_type": "stream",
     "text": [
      "5\n"
     ]
    }
   ],
   "source": [
    "print(alpha.find('beta'))"
   ]
  },
  {
   "cell_type": "code",
   "execution_count": 10,
   "id": "98325828",
   "metadata": {
    "execution": {
     "iopub.execute_input": "2024-05-29T14:04:53.833310Z",
     "iopub.status.busy": "2024-05-29T14:04:53.833005Z",
     "iopub.status.idle": "2024-05-29T14:04:53.837763Z",
     "shell.execute_reply": "2024-05-29T14:04:53.836840Z"
    },
    "papermill": {
     "duration": 0.01213,
     "end_time": "2024-05-29T14:04:53.840132",
     "exception": false,
     "start_time": "2024-05-29T14:04:53.828002",
     "status": "completed"
    },
    "tags": []
   },
   "outputs": [
    {
     "name": "stdout",
     "output_type": "stream",
     "text": [
      "alphasigmagamma\n"
     ]
    }
   ],
   "source": [
    "print(alpha.replace('beta', 'sigma'))"
   ]
  },
  {
   "cell_type": "code",
   "execution_count": 11,
   "id": "27afcf4a",
   "metadata": {
    "execution": {
     "iopub.execute_input": "2024-05-29T14:04:53.849759Z",
     "iopub.status.busy": "2024-05-29T14:04:53.849386Z",
     "iopub.status.idle": "2024-05-29T14:04:53.855023Z",
     "shell.execute_reply": "2024-05-29T14:04:53.853863Z"
    },
    "papermill": {
     "duration": 0.012784,
     "end_time": "2024-05-29T14:04:53.857050",
     "exception": false,
     "start_time": "2024-05-29T14:04:53.844266",
     "status": "completed"
    },
    "tags": []
   },
   "outputs": [
    {
     "name": "stdout",
     "output_type": "stream",
     "text": [
      "Greetings World\n"
     ]
    }
   ],
   "source": [
    "print('Greetings'+ ' '+'World')"
   ]
  },
  {
   "cell_type": "code",
   "execution_count": 12,
   "id": "53769815",
   "metadata": {
    "execution": {
     "iopub.execute_input": "2024-05-29T14:04:53.867172Z",
     "iopub.status.busy": "2024-05-29T14:04:53.866315Z",
     "iopub.status.idle": "2024-05-29T14:04:53.870541Z",
     "shell.execute_reply": "2024-05-29T14:04:53.869640Z"
    },
    "papermill": {
     "duration": 0.011295,
     "end_time": "2024-05-29T14:04:53.872549",
     "exception": false,
     "start_time": "2024-05-29T14:04:53.861254",
     "status": "completed"
    },
    "tags": []
   },
   "outputs": [],
   "source": [
    "greeting = ' '"
   ]
  }
 ],
 "metadata": {
  "kaggle": {
   "accelerator": "none",
   "dataSources": [],
   "dockerImageVersionId": 30698,
   "isGpuEnabled": false,
   "isInternetEnabled": true,
   "language": "python",
   "sourceType": "notebook"
  },
  "kernelspec": {
   "display_name": "Python 3",
   "language": "python",
   "name": "python3"
  },
  "language_info": {
   "codemirror_mode": {
    "name": "ipython",
    "version": 3
   },
   "file_extension": ".py",
   "mimetype": "text/x-python",
   "name": "python",
   "nbconvert_exporter": "python",
   "pygments_lexer": "ipython3",
   "version": "3.10.13"
  },
  "papermill": {
   "default_parameters": {},
   "duration": 3.126577,
   "end_time": "2024-05-29T14:04:54.194927",
   "environment_variables": {},
   "exception": null,
   "input_path": "__notebook__.ipynb",
   "output_path": "__notebook__.ipynb",
   "parameters": {},
   "start_time": "2024-05-29T14:04:51.068350",
   "version": "2.5.0"
  }
 },
 "nbformat": 4,
 "nbformat_minor": 5
}
